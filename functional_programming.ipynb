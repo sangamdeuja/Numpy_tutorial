{
 "cells": [
  {
   "cell_type": "markdown",
   "metadata": {},
   "source": [
    "# Functional Programming"
   ]
  },
  {
   "cell_type": "markdown",
   "metadata": {},
   "source": [
    "## Task 1"
   ]
  },
  {
   "cell_type": "markdown",
   "metadata": {},
   "source": [
    "Write functional programming code to apply a list of functions on a list of integers. Explain how it works as well and how it relates to functional programing."
   ]
  },
  {
   "cell_type": "code",
   "execution_count": 31,
   "metadata": {},
   "outputs": [
    {
     "name": "stdout",
     "output_type": "stream",
     "text": [
      "[3, 7, 10, 6, 8]\n",
      "[4, 8, 11, 7, 9]\n",
      "[9, 49, 100, 36, 64]\n"
     ]
    }
   ],
   "source": [
    "import random\n",
    "int_val=[random.randint(0,10) for item in range(0,5)]\n",
    "print(int_val)\n",
    "\n",
    "def add_1(a):\n",
    "    return a+1\n",
    "\n",
    "def square(a):\n",
    "    return a*a\n",
    "\n",
    "for functions in [add_1,square]:\n",
    "    print(list(map(lambda y:functions(y),int_val)))\n",
    "\n",
    "\n"
   ]
  },
  {
   "cell_type": "markdown",
   "metadata": {},
   "source": [
    "In the above code, the function changes in loop and use the int_val list to operate on them. Map avoids iteration over the list and inserts the value into the new list."
   ]
  },
  {
   "cell_type": "markdown",
   "metadata": {},
   "source": [
    "## Task 2"
   ]
  },
  {
   "cell_type": "markdown",
   "metadata": {},
   "source": [
    "Find the greatest common divisor of a list of numbers using Reduce. Explain how the code works as well. Explain how it works as well and how it relates to functional programing."
   ]
  },
  {
   "cell_type": "code",
   "execution_count": 131,
   "metadata": {},
   "outputs": [
    {
     "name": "stdout",
     "output_type": "stream",
     "text": [
      "4\n"
     ]
    }
   ],
   "source": [
    "##calculating the greatest common divisor using euclid algorithm\n",
    "def euclid_gcd(b,c):\n",
    "    \n",
    "    #print(b,c)\n",
    "    remainder=b%c\n",
    "    #print(remainder)\n",
    "    if remainder==0:\n",
    "        return c\n",
    "    else:\n",
    "        return euclid_gcd(c,remainder)\n",
    "\n",
    "print(euclid_gcd(28,8))\n",
    "\n",
    "\n"
   ]
  },
  {
   "cell_type": "code",
   "execution_count": 140,
   "metadata": {},
   "outputs": [
    {
     "name": "stdout",
     "output_type": "stream",
     "text": [
      "[186, 665]\n",
      "1\n"
     ]
    }
   ],
   "source": [
    "\n",
    "from functools import reduce\n",
    "import random\n",
    "int_val=[random.randint(0,1000) for item in range(0,2)]\n",
    "print(int_val)\n",
    "\n",
    "my_gcd=reduce(euclid_gcd,int_val) #the function with reduce should take 2 values\n",
    "print(my_gcd)\n"
   ]
  },
  {
   "cell_type": "markdown",
   "metadata": {},
   "source": [
    "Reduce function takes the function euclid_gcd and int_val iterable object without changing the object and retrns the reduced value. Her in our case, the reduced value is the greatest common divisor."
   ]
  },
  {
   "cell_type": "markdown",
   "metadata": {},
   "source": [
    "# Task 3"
   ]
  },
  {
   "cell_type": "markdown",
   "metadata": {},
   "source": [
    "1. Write a function groupby_demonstrator that takes as a list of tuples as an input (arg data) as well as boolean argument (verify_sorted). If verify_sorted is true, the list is sorted by the first key (0-th tuple element), otherwise it is not sorted.\n",
    "\n",
    "The function should print out key-value pairs by groups (as output from Python groupby). The print statements between groups should have an empty line. Print statements inside-group should not have empty lines in between (just new lines between records).\n",
    "\n",
    "2. Add a decorator ‘ensure_sourted_grouper’ that overrides the grouping, by making sure that the list is sorted when an argument ‘verify_sorted’ = True is passed. Otherwise, “You didn’t enforce the order” is printed to the console."
   ]
  },
  {
   "cell_type": "code",
   "execution_count": 145,
   "metadata": {},
   "outputs": [
    {
     "name": "stdout",
     "output_type": "stream",
     "text": [
      "[('Betty', 10)]\n",
      "\n",
      "[('Dana', 35)]\n",
      "\n",
      "[('John', 20), ('John', 40)]\n",
      "\n",
      "[('Robby', 8)]\n",
      "\n"
     ]
    }
   ],
   "source": [
    "from itertools import groupby\n",
    "\n",
    "def groupby_demonstrator(arg_data,verify_sorted):\n",
    "    if verify_sorted:\n",
    "        arg_data.sort()\n",
    "    grouped_iterator=groupby(arg_data,key=lambda x:x[0])\n",
    "    for key,value in grouped_iterator:\n",
    "        print(list(value))\n",
    "        print()\n",
    "    \n",
    "groupby_demonstrator([ ('John', 40), ('Dana', 35), ('Betty', 10), ('Robby', 8), ('John', 20) ],True) \n"
   ]
  },
  {
   "cell_type": "code",
   "execution_count": 161,
   "metadata": {},
   "outputs": [
    {
     "name": "stdout",
     "output_type": "stream",
     "text": [
      "You didn’t enforce the order\n"
     ]
    }
   ],
   "source": [
    "from itertools import groupby\n",
    "\n",
    "def ensure_sorted_grouper(func):\n",
    "    def wrapper(*arg_data,**kwargs):\n",
    "        if kwargs[\"verify_sorted\"]:\n",
    "            arg_data=sorted(*arg_data,key=lambda x:x[0])\n",
    "            func(arg_data,**kwargs)\n",
    "        else:\n",
    "            print(\"You didn’t enforce the order\")\n",
    "        \n",
    "    return wrapper\n",
    "        \n",
    "\n",
    "@ensure_sorted_grouper\n",
    "def groupby_demonstrator(arg_data,**verify_sorted):\n",
    "    #if verify_sorted:\n",
    "     #   arg_data.sort()\n",
    "    grouped_iterator=groupby(arg_data,key=lambda x:x[0])\n",
    "    for key,value in grouped_iterator:\n",
    "        print(list(value))\n",
    "        print()\n",
    "    \n",
    "groupby_demonstrator([ ('John', 40), ('Dana', 35), ('Betty', 10), ('Robby', 8), ('John', 20) ],verify_sorted=False) \n"
   ]
  },
  {
   "cell_type": "markdown",
   "metadata": {},
   "source": [
    "# Task 4"
   ]
  },
  {
   "cell_type": "markdown",
   "metadata": {},
   "source": [
    "In your own words, describe what is functional programming and how you can write functional programming code in Python (start here: https://docs.python.org/3/library/functional.html)\n"
   ]
  },
  {
   "cell_type": "markdown",
   "metadata": {},
   "source": [
    "Functional programming is the practice of implementing codes in function such that it does not change the state of any variable. we expect to get the same output every time we run the function with same input. The features of functional programming are Pure functions, Immutability and higher order functions.\n",
    "\n",
    "Functional programming does not allow variable to be changed once it is created. For example, after creating a list in above tasks 1 and 2 we are creating the new collection to produce a list rather than changing the original list. Higher order functions allow us to accept functions as parameter and as well as function as return value. These function allow us flexibility in our codes. The simple exaple would be building function using lambda. Other buil-in higher order function which we also practiced include, map, reduce, filter etc. "
   ]
  },
  {
   "cell_type": "code",
   "execution_count": null,
   "metadata": {},
   "outputs": [],
   "source": []
  }
 ],
 "metadata": {
  "kernelspec": {
   "display_name": "Python 3",
   "language": "python",
   "name": "python3"
  },
  "language_info": {
   "codemirror_mode": {
    "name": "ipython",
    "version": 3
   },
   "file_extension": ".py",
   "mimetype": "text/x-python",
   "name": "python",
   "nbconvert_exporter": "python",
   "pygments_lexer": "ipython3",
   "version": "3.7.3"
  }
 },
 "nbformat": 4,
 "nbformat_minor": 2
}

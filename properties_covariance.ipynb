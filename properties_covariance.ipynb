{
 "cells": [
  {
   "cell_type": "markdown",
   "metadata": {},
   "source": [
    "## Covariance of the two variable is given by:\n",
    "\n",
    "\\begin{align}\n",
    "Cov(X-Y)=\\frac{ \\sum_{k=1}^n (X_i-\\bar{x})(Y_i-\\bar{y})}{N}\n",
    "\\end{align}"
   ]
  },
  {
   "cell_type": "markdown",
   "metadata": {},
   "source": [
    "## Bias of an Estimator:\n",
    "\n",
    "The prediction error of the estimator is the sum of the estimator's bias , variance and irreducible error. But when the expected value and the true value of the estimator's parameter being measured becomes equal then the bias is zero. Therefore, the bias of an estimator can be defined as the difference betwen the rxpected and real value of parameter being measured."
   ]
  },
  {
   "cell_type": "markdown",
   "metadata": {},
   "source": [
    "## Properties of Covariance:\n",
    "\n",
    "### Covariance with itself\n",
    "\\begin{align}\n",
    "Cov(X,X)=var(X)=\\sigma_{x}^2\n",
    "\\end{align}\n",
    "\n",
    "### Covariance of Linear combinations\n",
    "\n",
    "For real value constants a,b,c,d\n",
    "\n",
    "Cov(X,a)=0\n",
    "\n",
    "Cov(X,X)=var(X)\n",
    "\n",
    "Cov(X,Y)=Cov(Y,X)\n",
    "\n",
    "Cov(aX,bY)=ab Cov(X,Y)\n",
    "\n",
    "Cov(X+a,Y+b)=Cov(X,Y)\n",
    "\n",
    "Cov(aX+bY,cW+dV)=ac Cov(X,W)+ad Cov(X,V)+bc Cov(Y,W)+bd Cov(Y,V)\n",
    "\n",
    "### Uncorrelatedness and independence\n",
    "For X,Y independent varibales , the covariance is zero.\n",
    "\n"
   ]
  },
  {
   "cell_type": "code",
   "execution_count": null,
   "metadata": {},
   "outputs": [],
   "source": []
  }
 ],
 "metadata": {
  "kernelspec": {
   "display_name": "Python 3",
   "language": "python",
   "name": "python3"
  },
  "language_info": {
   "codemirror_mode": {
    "name": "ipython",
    "version": 3
   },
   "file_extension": ".py",
   "mimetype": "text/x-python",
   "name": "python",
   "nbconvert_exporter": "python",
   "pygments_lexer": "ipython3",
   "version": "3.7.3"
  },
  "toc": {
   "base_numbering": 1,
   "nav_menu": {},
   "number_sections": true,
   "sideBar": true,
   "skip_h1_title": false,
   "title_cell": "Table of Contents",
   "title_sidebar": "Contents",
   "toc_cell": false,
   "toc_position": {},
   "toc_section_display": true,
   "toc_window_display": false
  },
  "varInspector": {
   "cols": {
    "lenName": 16,
    "lenType": 16,
    "lenVar": 40
   },
   "kernels_config": {
    "python": {
     "delete_cmd_postfix": "",
     "delete_cmd_prefix": "del ",
     "library": "var_list.py",
     "varRefreshCmd": "print(var_dic_list())"
    },
    "r": {
     "delete_cmd_postfix": ") ",
     "delete_cmd_prefix": "rm(",
     "library": "var_list.r",
     "varRefreshCmd": "cat(var_dic_list()) "
    }
   },
   "types_to_exclude": [
    "module",
    "function",
    "builtin_function_or_method",
    "instance",
    "_Feature"
   ],
   "window_display": false
  }
 },
 "nbformat": 4,
 "nbformat_minor": 2
}

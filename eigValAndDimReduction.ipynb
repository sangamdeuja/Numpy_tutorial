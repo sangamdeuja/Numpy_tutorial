{
 "cells": [
  {
   "cell_type": "markdown",
   "metadata": {},
   "source": [
    "### Write in your own words how does the EIG command work on pseudocode level (enough to explain the mathematics behind it). Also write out the main formulae in Jupyter Notebook.   "
   ]
  },
  {
   "cell_type": "code",
   "execution_count": 1,
   "metadata": {},
   "outputs": [],
   "source": [
    "import numpy as np\n",
    "import numpy.linalg as la"
   ]
  },
  {
   "cell_type": "code",
   "execution_count": 6,
   "metadata": {},
   "outputs": [],
   "source": [
    "eigen_value,eigen_vector=la.eig(np.array([[2,4],[4,8]]))"
   ]
  },
  {
   "cell_type": "markdown",
   "metadata": {},
   "source": [
    "The eigen value and eigen vector of square matrix A can be computed using the property \n",
    "\\begin{align}\n",
    "AV=\\lambda V \\\\\n",
    "AV-\\lambda V =0 \\\\\n",
    "(A-\\lambda I) V=0 \\\\\n",
    "| A -\\lambda I| =0\n",
    "\\end{align}\n",
    "\n",
    "where 𝜆 is eigen values and V is eigen vector and I is the identity matrix\n",
    "\n",
    "\n",
    "\n",
    "\n"
   ]
  },
  {
   "cell_type": "markdown",
   "metadata": {},
   "source": [
    "### Show mathematically how the vector form of Covariance Matrix representation can be deduced from the matrix form (you can choose your own denotation for eigenvectors) "
   ]
  },
  {
   "cell_type": "markdown",
   "metadata": {},
   "source": [
    "let $u$=$v$=$[\\vec{u_1},\\vec{u_2}, ...,\\vec{u_d}]$ then <br/>\n",
    "$\\sum =[ \\vec{u_1},\\vec{u_2}, ...,\\vec{u_d}]\n",
    "\\begin{bmatrix} \\lambda_i & 0 & 0 \\\\ 0 & \\lambda_j & 0 \\\\ 0 & 0 & \\lambda_d\\end{bmatrix}[ \\vec{u_1},\\vec{u_2}, ..., \\vec{u_d}]^T$ <br/>\n",
    "$=[ \\vec{u_1},\\vec{u_2}, ...,\\vec{u_d}].\\begin{bmatrix} \\lambda_1 u_1 \\\\ \\lambda_2 u_2  \\\\ \\vdots  \\\\  \\lambda_d u_d\\end{bmatrix}$ <br/>\n",
    "$ = \\lambda_1 u_1 u_1^T + \\lambda_2 u_2 u_2^T+ \\lambda_2 u_2 u_2^T+ .... +\\lambda_d u_d u_d^T$ <br/>\n",
    "$=\\lambda_i u_i u_i^T  $\n",
    "$  = \\sum \\limits _{i=1} ^{D}\\lambda_i u_i u_i^T$"
   ]
  },
  {
   "cell_type": "markdown",
   "metadata": {},
   "source": [
    "### Replicate all the steps of https://sebastianraschka.com/Articles/2014_pca_step_by_step.html up to the end of point 5. You don't need to do point 3)a because our focus is on the Covariance matrix. "
   ]
  },
  {
   "cell_type": "code",
   "execution_count": 10,
   "metadata": {},
   "outputs": [],
   "source": [
    "mu_vec1 = np.array([0,0,0])\n",
    "cov_mat1 = np.array([[1,0,0],[0,1,0],[0,0,1]])\n",
    "class1_sample = np.random.multivariate_normal(mu_vec1, cov_mat1, 20).T"
   ]
  },
  {
   "cell_type": "code",
   "execution_count": 11,
   "metadata": {},
   "outputs": [
    {
     "data": {
      "text/plain": [
       "array([[ 2.09209836, -0.4651235 ,  0.85574773, -0.28712455,  0.40861041,\n",
       "         1.25377641, -1.19361492, -0.917519  , -1.4855994 ,  0.26912106,\n",
       "         0.56169498,  1.45660556, -1.03373062,  0.18244582,  0.61258553,\n",
       "         0.58588449,  1.79541933, -1.16276156,  1.33654629,  0.85752825],\n",
       "       [-0.70323619, -2.25791333,  0.41918399, -0.21786285, -0.17761223,\n",
       "         0.10540902,  1.89943131, -0.98874114,  0.70645644,  0.53073032,\n",
       "        -0.94154117,  0.4068117 , -1.22378777, -2.2072193 , -0.32235005,\n",
       "         0.52478673,  0.77001893,  0.39641611,  0.86301552,  0.17014234],\n",
       "       [ 0.36171216,  0.48398001, -0.79080765, -0.03720496, -0.04348462,\n",
       "         1.12579904, -0.3419861 , -0.32501283, -0.19969117, -1.40855794,\n",
       "        -1.45416524,  0.32853861, -1.77407724, -0.86042784,  0.83700655,\n",
       "         0.97242816,  0.46933776,  0.17569047,  0.72930022, -2.05781973]])"
      ]
     },
     "execution_count": 11,
     "metadata": {},
     "output_type": "execute_result"
    }
   ],
   "source": [
    "class1_sample "
   ]
  },
  {
   "cell_type": "code",
   "execution_count": 16,
   "metadata": {},
   "outputs": [
    {
     "data": {
      "text/plain": [
       "(3, 20)"
      ]
     },
     "execution_count": 16,
     "metadata": {},
     "output_type": "execute_result"
    }
   ],
   "source": [
    "assert class1_sample.shape == (3,20), \"The matrix has not the dimensions 3x20\"\n",
    "class1_sample.shape"
   ]
  },
  {
   "cell_type": "code",
   "execution_count": 17,
   "metadata": {},
   "outputs": [],
   "source": [
    "mu_vec2 = np.array([1,1,1])\n",
    "cov_mat2 = np.array([[1,0,0],[0,1,0],[0,0,1]])\n",
    "class2_sample = np.random.multivariate_normal(mu_vec2, cov_mat2, 20).T\n",
    "assert class2_sample.shape == (3,20), \"The matrix has not the dimensions 3x20\""
   ]
  },
  {
   "cell_type": "code",
   "execution_count": 18,
   "metadata": {},
   "outputs": [],
   "source": [
    "all_samples = np.concatenate((class1_sample, class2_sample), axis=1)\n",
    "assert all_samples.shape == (3,40), \"The matrix has not the dimensions 3x40\""
   ]
  },
  {
   "cell_type": "code",
   "execution_count": 19,
   "metadata": {},
   "outputs": [
    {
     "name": "stdout",
     "output_type": "stream",
     "text": [
      "Mean Vector:\n",
      " [[0.61522918]\n",
      " [0.19893197]\n",
      " [0.47604385]]\n"
     ]
    }
   ],
   "source": [
    "mean_x=np.mean(all_samples[0,:])\n",
    "mean_y = np.mean(all_samples[1,:])\n",
    "mean_z = np.mean(all_samples[2,:])\n",
    "mean_vector = np.array([[mean_x],[mean_y],[mean_z]])\n",
    "\n",
    "print('Mean Vector:\\n', mean_vector)"
   ]
  },
  {
   "cell_type": "code",
   "execution_count": 20,
   "metadata": {},
   "outputs": [
    {
     "name": "stdout",
     "output_type": "stream",
     "text": [
      "Covariance Matrix:\n",
      " [[1.10475759 0.1738728  0.50140312]\n",
      " [0.1738728  0.95020891 0.25554456]\n",
      " [0.50140312 0.25554456 1.52774918]]\n"
     ]
    }
   ],
   "source": [
    "cov_mat = np.cov([all_samples[0,:],all_samples[1,:],all_samples[2,:]])\n",
    "print('Covariance Matrix:\\n', cov_mat)"
   ]
  },
  {
   "cell_type": "code",
   "execution_count": 21,
   "metadata": {},
   "outputs": [],
   "source": [
    "eig_val_cov, eig_vec_cov = np.linalg.eig(cov_mat)"
   ]
  },
  {
   "cell_type": "code",
   "execution_count": 22,
   "metadata": {},
   "outputs": [
    {
     "data": {
      "text/plain": [
       "array([1.95546062, 0.77192715, 0.85532791])"
      ]
     },
     "execution_count": 22,
     "metadata": {},
     "output_type": "execute_result"
    }
   ],
   "source": [
    "eig_val_cov\n"
   ]
  },
  {
   "cell_type": "code",
   "execution_count": 23,
   "metadata": {},
   "outputs": [
    {
     "data": {
      "text/plain": [
       "array([[ 0.52921002,  0.83878209,  0.12798973],\n",
       "       [ 0.29387832, -0.03968945, -0.95501847],\n",
       "       [ 0.79597254, -0.54301875,  0.26750392]])"
      ]
     },
     "execution_count": 23,
     "metadata": {},
     "output_type": "execute_result"
    }
   ],
   "source": [
    "eig_vec_cov"
   ]
  },
  {
   "cell_type": "code",
   "execution_count": 24,
   "metadata": {},
   "outputs": [
    {
     "data": {
      "text/plain": [
       "[(1.955460618768408, array([0.52921002, 0.29387832, 0.79597254])),\n",
       " (0.8553279103392175, array([ 0.12798973, -0.95501847,  0.26750392])),\n",
       " (0.7719271543116217, array([ 0.83878209, -0.03968945, -0.54301875]))]"
      ]
     },
     "execution_count": 24,
     "metadata": {},
     "output_type": "execute_result"
    }
   ],
   "source": [
    "eig_pairs = [(np.abs(eig_val_cov[i]), eig_vec_cov[:,i]) for i in range(len(eig_val_cov))]\n",
    "eig_pairs.sort(key=lambda x: x[0], reverse=True)\n",
    "eig_pairs\n",
    "\n"
   ]
  },
  {
   "cell_type": "code",
   "execution_count": 25,
   "metadata": {},
   "outputs": [
    {
     "data": {
      "text/plain": [
       "array([[ 0.52921002,  0.12798973],\n",
       "       [ 0.29387832, -0.95501847],\n",
       "       [ 0.79597254,  0.26750392]])"
      ]
     },
     "execution_count": 25,
     "metadata": {},
     "output_type": "execute_result"
    }
   ],
   "source": [
    "matrix_w = np.hstack((eig_pairs[0][1].reshape(3,1), eig_pairs[1][1].reshape(3,1)))\n",
    "matrix_w\n"
   ]
  },
  {
   "cell_type": "code",
   "execution_count": 27,
   "metadata": {},
   "outputs": [
    {
     "data": {
      "text/plain": [
       "(2, 40)"
      ]
     },
     "execution_count": 27,
     "metadata": {},
     "output_type": "execute_result"
    }
   ],
   "source": [
    "transformed = matrix_w.T.dot(all_samples)\n",
    "transformed.shape"
   ]
  },
  {
   "cell_type": "markdown",
   "metadata": {},
   "source": [
    "The dimension 3 times 40 has been reduced to 2 times 40 by applying above steps similar to PCA."
   ]
  },
  {
   "cell_type": "code",
   "execution_count": null,
   "metadata": {},
   "outputs": [],
   "source": []
  }
 ],
 "metadata": {
  "kernelspec": {
   "display_name": "Python 3",
   "language": "python",
   "name": "python3"
  },
  "language_info": {
   "codemirror_mode": {
    "name": "ipython",
    "version": 3
   },
   "file_extension": ".py",
   "mimetype": "text/x-python",
   "name": "python",
   "nbconvert_exporter": "python",
   "pygments_lexer": "ipython3",
   "version": "3.7.3"
  },
  "toc": {
   "base_numbering": 1,
   "nav_menu": {},
   "number_sections": true,
   "sideBar": true,
   "skip_h1_title": false,
   "title_cell": "Table of Contents",
   "title_sidebar": "Contents",
   "toc_cell": false,
   "toc_position": {},
   "toc_section_display": true,
   "toc_window_display": false
  },
  "varInspector": {
   "cols": {
    "lenName": 16,
    "lenType": 16,
    "lenVar": 40
   },
   "kernels_config": {
    "python": {
     "delete_cmd_postfix": "",
     "delete_cmd_prefix": "del ",
     "library": "var_list.py",
     "varRefreshCmd": "print(var_dic_list())"
    },
    "r": {
     "delete_cmd_postfix": ") ",
     "delete_cmd_prefix": "rm(",
     "library": "var_list.r",
     "varRefreshCmd": "cat(var_dic_list()) "
    }
   },
   "types_to_exclude": [
    "module",
    "function",
    "builtin_function_or_method",
    "instance",
    "_Feature"
   ],
   "window_display": false
  }
 },
 "nbformat": 4,
 "nbformat_minor": 2
}
